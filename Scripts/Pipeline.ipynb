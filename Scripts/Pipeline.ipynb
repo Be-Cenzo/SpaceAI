{
 "cells": [
  {
   "cell_type": "code",
   "execution_count": 1,
   "id": "2b942cca-22ff-4744-86d1-3b10ff787c81",
   "metadata": {},
   "outputs": [],
   "source": [
    "# To support both python 2 and python 3\n",
    "from __future__ import division, print_function, unicode_literals\n",
    "\n",
    "# Common imports\n",
    "#as rename \n",
    "import numpy as np\n",
    "import os\n",
    "import matplotlib.pyplot as plt\n",
    "import pandas as pd\n",
    "\n",
    "# To plot pretty figures\n",
    "%matplotlib inline\n",
    "import matplotlib as mpl\n",
    "import matplotlib.pyplot as plt\n",
    "mpl.rc('axes', labelsize=14)\n",
    "mpl.rc('xtick', labelsize=12)\n",
    "mpl.rc('ytick', labelsize=12)"
   ]
  },
  {
   "cell_type": "code",
   "execution_count": 2,
   "id": "cd3d9c4b-9bc9-4f4b-b48e-8288401e0ab4",
   "metadata": {},
   "outputs": [],
   "source": [
    "import os\n",
    "import tarfile\n",
    "from six.moves import urllib\n",
    "\n",
    "DOWNLOAD_ROOT = \"https://raw.githubusercontent.com/Be-Cenzo/SpaceAI/main/Dataset/\"\n",
    "FILE_PATH = os.path.join(\"Dataset\")\n",
    "FILE_URL1 = DOWNLOAD_ROOT + \"star_classification.csv\"\n",
    "\n",
    "#download del dataset\n",
    "def fetch_file_data1(file_url1=FILE_URL1, file_path1=FILE_PATH):\n",
    "    os.makedirs(file_path1, exist_ok=True)\n",
    "    csv_path1 = os.path.join(file_path1, \"star_classification.csv\")\n",
    "    urllib.request.urlretrieve(file_url1, csv_path1)\n",
    "\n",
    "fetch_file_data1()"
   ]
  },
  {
   "cell_type": "code",
   "execution_count": 3,
   "id": "9c1b45b1-9e05-45b4-aec0-8070e7b503c8",
   "metadata": {},
   "outputs": [],
   "source": [
    "#lettura del dataset\n",
    "datapath = os.path.join(\"Dataset\", \"\")\n",
    "\n",
    "stars = pd.read_csv(datapath + \"star_classification.csv\")"
   ]
  },
  {
   "cell_type": "code",
   "execution_count": 6,
   "id": "7ff710a6-9e52-4698-9c0f-18413e4ae4a6",
   "metadata": {},
   "outputs": [
    {
     "name": "stdout",
     "output_type": "stream",
     "text": [
      "             obj_ID         alpha         delta             u             g  \\\n",
      "count  9.999900e+04  99999.000000  99999.000000  99999.000000  99999.000000   \n",
      "mean   1.237665e+18    177.628653     24.135552     22.080679     20.631583   \n",
      "std    8.438450e+12     96.502612     19.644608      2.251068      2.037384   \n",
      "min    1.237646e+18      0.005528    -18.785328     10.996230     10.498200   \n",
      "25%    1.237659e+18    127.517698      5.147477     20.352410     18.965240   \n",
      "50%    1.237663e+18    180.900527     23.646462     22.179140     21.099930   \n",
      "75%    1.237668e+18    233.895005     39.901582     23.687480     22.123775   \n",
      "max    1.237681e+18    359.999810     83.000519     32.781390     31.602240   \n",
      "\n",
      "                  r             i             z        run_ID  rerun_ID  \\\n",
      "count  99999.000000  99999.000000  99999.000000  99999.000000   99999.0   \n",
      "mean      19.645777     19.084865     18.768988   4481.403354     301.0   \n",
      "std        1.854763      1.757900      1.765982   1964.739021       0.0   \n",
      "min        9.822070      9.469903      9.612333    109.000000     301.0   \n",
      "25%       18.135795     17.732280     17.460830   3187.000000     301.0   \n",
      "50%       20.125310     19.405150     19.004600   4188.000000     301.0   \n",
      "75%       21.044790     20.396510     19.921120   5326.000000     301.0   \n",
      "max       29.571860     32.141470     29.383740   8162.000000     301.0   \n",
      "\n",
      "            cam_col      field_ID   spec_obj_ID      redshift         plate  \\\n",
      "count  99999.000000  99999.000000  9.999900e+04  99999.000000  99999.000000   \n",
      "mean       3.511625    186.127011  5.783903e+18      0.576667   5137.027890   \n",
      "std        1.586913    149.007687  3.324026e+18      0.730709   2952.312485   \n",
      "min        1.000000     11.000000  2.995191e+17     -0.009971    266.000000   \n",
      "25%        2.000000     82.000000  2.844137e+18      0.054522   2526.000000   \n",
      "50%        4.000000    146.000000  5.614896e+18      0.424176   4987.000000   \n",
      "75%        5.000000    241.000000  8.332365e+18      0.704172   7400.500000   \n",
      "max        6.000000    989.000000  1.412694e+19      7.011245  12547.000000   \n",
      "\n",
      "                MJD      fiber_ID  \n",
      "count  99999.000000  99999.000000  \n",
      "mean   55588.653687    449.315613  \n",
      "std     1808.492217    272.498252  \n",
      "min    51608.000000      1.000000  \n",
      "25%    54234.000000    221.000000  \n",
      "50%    55869.000000    433.000000  \n",
      "75%    56777.000000    645.000000  \n",
      "max    58932.000000   1000.000000  \n"
     ]
    }
   ],
   "source": [
    "#distribuzione dei dati\n",
    "print(stars.describe())"
   ]
  },
  {
   "cell_type": "code",
   "execution_count": 5,
   "id": "fe14e90c-b556-4407-86d7-b9f6d1ab788b",
   "metadata": {},
   "outputs": [
    {
     "name": "stdout",
     "output_type": "stream",
     "text": [
      "obj_ID         0\n",
      "alpha          0\n",
      "delta          0\n",
      "u              0\n",
      "g              0\n",
      "r              0\n",
      "i              0\n",
      "z              0\n",
      "run_ID         0\n",
      "rerun_ID       0\n",
      "cam_col        0\n",
      "field_ID       0\n",
      "spec_obj_ID    0\n",
      "class          0\n",
      "redshift       0\n",
      "plate          0\n",
      "MJD            0\n",
      "fiber_ID       0\n",
      "dtype: int64\n",
      "Empty DataFrame\n",
      "Columns: [obj_ID, alpha, delta, u, g, r, i, z, run_ID, rerun_ID, cam_col, field_ID, spec_obj_ID, class, redshift, plate, MJD, fiber_ID]\n",
      "Index: []\n",
      "['n/a', 'na', '--', 'nan', 'NaN', -9999]\n",
      "obj_ID         0\n",
      "alpha          0\n",
      "delta          0\n",
      "u              0\n",
      "g              0\n",
      "r              0\n",
      "i              0\n",
      "z              0\n",
      "run_ID         0\n",
      "rerun_ID       0\n",
      "cam_col        0\n",
      "field_ID       0\n",
      "spec_obj_ID    0\n",
      "class          0\n",
      "redshift       0\n",
      "plate          0\n",
      "MJD            0\n",
      "fiber_ID       0\n",
      "dtype: int64\n"
     ]
    }
   ],
   "source": [
    "#ricerca di dati mancanti\n",
    "pd.set_option('display.max_columns', None)\n",
    "pd.set_option('display.max_rows', None)\n",
    "\n",
    "vuoto = stars.isnull();\n",
    "print(stars.isnull().sum())\n",
    "print(vuoto[vuoto[\"z\"] == 1])\n",
    "\n",
    "missing_values = [\"n/a\", \"na\", \"--\", \"nan\", \"NaN\", -9999]\n",
    "stars = pd.read_csv(datapath + \"star_classification.csv\", na_values = missing_values)\n",
    "print(missing_values)\n",
    "\n",
    "#data quality imputation\n",
    "#eliminazione righe con dati mancanti\n",
    "stars = stars.dropna(axis=0)\n",
    "print(stars.isnull().sum())"
   ]
  },
  {
   "cell_type": "code",
   "execution_count": null,
   "id": "941ddaf3-f912-47b3-af5f-40e15e2bbde5",
   "metadata": {},
   "outputs": [],
   "source": [
    "#scatterplot -> definition\n",
    "\n",
    "stars.plot(x='redshift', y='class',kind='scatter')\n",
    "plt.show()"
   ]
  },
  {
   "cell_type": "code",
   "execution_count": 7,
   "id": "acc4d1a8-331d-42e4-870d-647f77b78f32",
   "metadata": {},
   "outputs": [],
   "source": [
    "#definizione delle variabili indipendenti e della variabile target\n",
    "\n",
    "X = stars.iloc[:, [1, 2, 3, 4, 5, 6, 7, 8, 10 ,11, 12, 14, 15, 16, 17]]\n",
    "y= stars.iloc[ : , 13]"
   ]
  },
  {
   "cell_type": "code",
   "execution_count": 10,
   "id": "7bbd8484-984a-42c9-b72b-d7de968ba0ac",
   "metadata": {},
   "outputs": [
    {
     "data": {
      "text/plain": [
       "GALAXY    59445\n",
       "STAR      21593\n",
       "QSO       18961\n",
       "Name: class, dtype: int64"
      ]
     },
     "execution_count": 10,
     "metadata": {},
     "output_type": "execute_result"
    },
    {
     "data": {
      "image/png": "[encoded data removed]",
      "text/plain": [
       "<Figure size 432x288 with 1 Axes>"
      ]
     },
     "metadata": {
      "needs_background": "light"
     },
     "output_type": "display_data"
    }
   ],
   "source": [
    "#plot della distribuzione della variabile target\n",
    "pd.value_counts(stars['class']).plot.bar()\n",
    "plt.xlabel('target')\n",
    "plt.ylabel('Frequency')\n",
    "stars['class'].value_counts()"
   ]
  },
  {
   "cell_type": "code",
   "execution_count": 11,
   "id": "140cc240-a90f-4445-b7ae-7ac75e3666f7",
   "metadata": {},
   "outputs": [
    {
     "name": "stdout",
     "output_type": "stream",
     "text": [
      "Number transactions X_train dataset:  (79999, 15)\n",
      "Number transactions y_train dataset:  (79999,)\n",
      "Number transactions X_test dataset:  (20000, 15)\n",
      "Number transactions y_test dataset:  (20000,)\n"
     ]
    }
   ],
   "source": [
    "from sklearn.model_selection import train_test_split\n",
    "\n",
    "#divisione del dataset in training set e testing set\n",
    "X_train, X_test, y_train, y_test = train_test_split(X, y, test_size=0.2, random_state=42)\n",
    "\n",
    "print(\"Number transactions X_train dataset: \", X_train.shape)\n",
    "print(\"Number transactions y_train dataset: \", y_train.shape)\n",
    "print(\"Number transactions X_test dataset: \", X_test.shape)\n",
    "print(\"Number transactions y_test dataset: \", y_test.shape)\n",
    "X_train_res = X_train\n",
    "y_train_res = y_train"
   ]
  },
  {
   "cell_type": "code",
   "execution_count": null,
   "id": "d9c4ac8c-e71c-463e-aff8-cf5f750f069f",
   "metadata": {},
   "outputs": [],
   "source": [
    "#Oversampling utilizzando SMOTE\n",
    "from imblearn.over_sampling import SMOTE\n",
    "\n",
    "print(\"Before OverSampling, counts of label 'GALAXY': {}\".format(sum(y_train == \"GALAXY\")))\n",
    "print(\"Before OverSampling, counts of label 'QSO': {}\".format(sum(y_train == \"QSO\")))\n",
    "print(\"Before OverSampling, counts of label 'STAR': {} \\n\".format(sum(y_train == \"STAR\")))\n",
    "\n",
    "sm = SMOTE(random_state=42)\n",
    "X_train_res, y_train_res = sm.fit_resample(X_train, y_train)"
   ]
  },
  {
   "cell_type": "code",
   "execution_count": null,
   "id": "61a2e139-68f9-4242-bcbd-93a1cabcc4f4",
   "metadata": {},
   "outputs": [],
   "source": [
    "#Undersampling utilizzando RandomUnderSampler\n",
    "from imblearn.under_sampling import RandomUnderSampler\n",
    "\n",
    "print(\"Before UnderSampling, counts of label 'GALAXY': {}\".format(sum(y_train == \"GALAXY\")))\n",
    "print(\"Before UnderSampling, counts of label 'QSO': {}\".format(sum(y_train == \"QSO\")))\n",
    "print(\"Before UnderSampling, counts of label 'STAR': {} \\n\".format(sum(y_train == \"STAR\")))\n",
    "\n",
    "rus = RandomUnderSampler(random_state=42)\n",
    "X_train_res, y_train_res = rus.fit_resample(X_train, y_train)"
   ]
  },
  {
   "cell_type": "code",
   "execution_count": null,
   "id": "c206757a-7364-4aeb-a171-500cb068b05a",
   "metadata": {},
   "outputs": [],
   "source": [
    "#Undersampling utilizzando ClusterCentroids\n",
    "from imblearn.under_sampling import ClusterCentroids\n",
    "\n",
    "print(\"Before UnderSampling, counts of label 'GALAXY': {}\".format(sum(y_train == \"GALAXY\")))\n",
    "print(\"Before UnderSampling, counts of label 'QSO': {}\".format(sum(y_train == \"QSO\")))\n",
    "print(\"Before UnderSampling, counts of label 'STAR': {} \\n\".format(sum(y_train == \"STAR\")))\n",
    "\n",
    "cc = ClusterCentroids(random_state=42)\n",
    "X_train_res, y_train_res = cc.fit_resample(X_train, y_train)"
   ]
  },
  {
   "cell_type": "code",
   "execution_count": 12,
   "id": "4aca7349-35de-44f7-bd87-a79b05842f52",
   "metadata": {},
   "outputs": [
    {
     "name": "stdout",
     "output_type": "stream",
     "text": [
      "Before UnderSampling, counts of label 'GALAXY': 47541\n",
      "Before UnderSampling, counts of label 'QSO': 15151\n",
      "Before UnderSampling, counts of label 'STAR': 17307 \n",
      "\n"
     ]
    }
   ],
   "source": [
    "#Undersampling utilizzando NearMiss\n",
    "from imblearn.under_sampling import NearMiss\n",
    "\n",
    "print(\"Before UnderSampling, counts of label 'GALAXY': {}\".format(sum(y_train == \"GALAXY\")))\n",
    "print(\"Before UnderSampling, counts of label 'QSO': {}\".format(sum(y_train == \"QSO\")))\n",
    "print(\"Before UnderSampling, counts of label 'STAR': {} \\n\".format(sum(y_train == \"STAR\")))\n",
    "\n",
    "nm = NearMiss()\n",
    "X_train_res, y_train_res = nm.fit_resample(X_train, y_train)"
   ]
  },
  {
   "cell_type": "code",
   "execution_count": 13,
   "id": "2000be89-d13f-48ca-a2c6-84baa438ec0b",
   "metadata": {},
   "outputs": [
    {
     "name": "stdout",
     "output_type": "stream",
     "text": [
      "After Balancing, counts of label 'GALAXY': 15151\n",
      "After Balancing, counts of label 'QSO': 15151\n",
      "After Balancing, counts of label 'STAR': 15151\n"
     ]
    }
   ],
   "source": [
    "print(\"After Balancing, counts of label 'GALAXY': {}\".format(sum(y_train_res == \"GALAXY\")))\n",
    "print(\"After Balancing, counts of label 'QSO': {}\".format(sum(y_train_res ==  \"QSO\")))\n",
    "print(\"After Balancing, counts of label 'STAR': {}\".format(sum(y_train_res ==  \"STAR\")))"
   ]
  },
  {
   "cell_type": "code",
   "execution_count": 14,
   "id": "f7d53925-d467-4756-9f87-016f8970b205",
   "metadata": {},
   "outputs": [
    {
     "name": "stdout",
     "output_type": "stream",
     "text": [
      "26002       QSO\n",
      "80421      STAR\n",
      "19864      STAR\n",
      "81526      STAR\n",
      "57878    GALAXY\n",
      "Name: class, dtype: object\n",
      "            alpha      delta         u         g         r         i  \\\n",
      "26002  118.663236  39.642429  22.85773  22.18874  21.35562  21.26577   \n",
      "80421  358.991830  32.749086  22.62560  22.02104  22.06787  22.44037   \n",
      "19864   30.887222   1.188710  18.18911  16.89469  16.42161  16.24627   \n",
      "81526  118.272263  66.181027  17.57887  16.55078  16.21527  16.10371   \n",
      "57878   22.848077  -4.611963  27.10401  22.65568  21.26362  20.04805   \n",
      "\n",
      "              z  run_ID  cam_col  field_ID   spec_obj_ID  redshift  plate  \\\n",
      "26002  20.93935    2076        6       100  1.053522e+19  1.174289   9357   \n",
      "80421  22.17338    4135        3       252  8.727075e+18 -0.001960   7751   \n",
      "19864  16.18549    7717        1       536  8.255357e+18  0.000004   7332   \n",
      "81526  16.09738    4887        4       256  3.309184e+18 -0.000165   2939   \n",
      "57878  19.61308    7881        4       174  7.934490e+18  0.523852   7047   \n",
      "\n",
      "         MJD  fiber_ID  \n",
      "26002  57807       635  \n",
      "80421  58081       818  \n",
      "19864  56683       943  \n",
      "81526  54515       597  \n",
      "57878  56572       993  \n"
     ]
    },
    {
     "data": {
      "image/png": "[encoded data removed]",
      "text/plain": [
       "<Figure size 432x288 with 1 Axes>"
      ]
     },
     "metadata": {
      "needs_background": "light"
     },
     "output_type": "display_data"
    }
   ],
   "source": [
    "#plot della distribuzione della variabile target dopo il bilanciamento\n",
    "pd.value_counts(y_train_res).plot.bar()\n",
    "plt.xlabel('target')\n",
    "plt.ylabel('Frequency')\n",
    "y_train_res.value_counts()\n",
    "print(y_test.head(5))\n",
    "print(X_test.head(5))"
   ]
  },
  {
   "cell_type": "code",
   "execution_count": null,
   "id": "4f4f6f74-8e79-4ba6-9a6d-dddc14daf7a8",
   "metadata": {},
   "outputs": [],
   "source": [
    "#Normalizzazione dei dati\n",
    "from sklearn.preprocessing import MinMaxScaler\n",
    "\n",
    "scl = MinMaxScaler(feature_range=(0, 1)) #you can use differnt range\n",
    "X_train_res = scl.fit_transform(X_train_res)\n",
    "x_test = scl.fit_transform(X_test)\n",
    "\n",
    "print(X_train_res)"
   ]
  },
  {
   "cell_type": "code",
   "execution_count": 18,
   "id": "b180de85-5738-4ca2-afb0-7b784fbe61e4",
   "metadata": {},
   "outputs": [
    {
     "name": "stdout",
     "output_type": "stream",
     "text": [
      "(45453, 10)\n"
     ]
    },
    {
     "data": {
      "text/plain": [
       "['u', 'g', 'r', 'i', 'z', 'run_ID', 'spec_obj_ID', 'redshift', 'plate', 'MJD']"
      ]
     },
     "execution_count": 18,
     "metadata": {},
     "output_type": "execute_result"
    }
   ],
   "source": [
    "#feature selection usando SelectKBest\n",
    "\n",
    "from sklearn.feature_selection import SelectKBest\n",
    "from sklearn.feature_selection import chi2, f_regression, mutual_info_classif\n",
    "from numpy import set_printoptions\n",
    "\n",
    "fs = SelectKBest(score_func=mutual_info_classif,k=10)\n",
    "fs.fit_transform(X_train_res, y_train_res)\n",
    "#print(fs[:7])\n",
    "\n",
    "X_new_train_res = fs.transform(X_train_res)\n",
    "X_new_test = fs.transform(X_test)\n",
    "print(X_new_train_res.shape)\n",
    "\n",
    "\n",
    "X.columns[fs.get_support(indices=True)]\n",
    "\n",
    "X.columns[fs.get_support(indices=True)].tolist()\n",
    "\n",
    "#print(X_new_test[1])"
   ]
  },
  {
   "cell_type": "code",
   "execution_count": 23,
   "id": "e0c911fc-569a-4767-bc09-14d78c7042f6",
   "metadata": {},
   "outputs": [
    {
     "name": "stdout",
     "output_type": "stream",
     "text": [
      "[[11440   364   100]\n",
      " [  676  3134     0]\n",
      " [    0     0  4286]]\n",
      "              precision    recall  f1-score   support\n",
      "\n",
      "      GALAXY       0.94      0.96      0.95     11904\n",
      "         QSO       0.90      0.82      0.86      3810\n",
      "        STAR       0.98      1.00      0.99      4286\n",
      "\n",
      "    accuracy                           0.94     20000\n",
      "   macro avg       0.94      0.93      0.93     20000\n",
      "weighted avg       0.94      0.94      0.94     20000\n",
      "\n",
      "Accuracy: 0.943\n"
     ]
    }
   ],
   "source": [
    "from sklearn.tree import DecisionTreeClassifier\n",
    "from sklearn import metrics\n",
    "from sklearn.metrics import classification_report, confusion_matrix\n",
    "\n",
    "tree_model = DecisionTreeClassifier(max_depth=2, random_state=42)\n",
    "#The maximum depth of the tree. If None, then nodes are expanded until all leaves are pure or until all leaves contain less than min_samples_split samples.\n",
    "\n",
    "tree_model.fit(X_new_train_res, y_train_res)\n",
    "\n",
    "y_pred = tree_model.predict(X_new_test)\n",
    "\n",
    "labels = np.unique(y_test)\n",
    "print(confusion_matrix(y_test, y_pred, labels=labels))\n",
    "print(classification_report(y_test, y_pred))\n",
    "\n",
    "#Overall, how often is the classifier correct?\n",
    "print(\"Accuracy:\",metrics.accuracy_score(y_test, y_pred))"
   ]
  },
  {
   "cell_type": "code",
   "execution_count": null,
   "id": "126a75eb-e998-42f5-84fa-7b4ce6a4286a",
   "metadata": {},
   "outputs": [],
   "source": [
    "from sklearn.naive_bayes import MultinomialNB\n",
    "from sklearn import metrics\n",
    "from sklearn.metrics import classification_report, confusion_matrix\n",
    "\n",
    "\n",
    "nb = MultinomialNB()\n",
    "nb.fit(X_train_res, y_train_res)\n",
    "\n",
    "y_pred = nb.predict(X_test)\n",
    "\n",
    "labels = np.unique(y_test)\n",
    "print(confusion_matrix(y_test, y_pred, labels=labels))\n",
    "print(classification_report(y_test, y_pred))\n",
    "\n",
    "#Overall, how often is the classifier correct?\n",
    "print(\"Accuracy:\",metrics.accuracy_score(y_test, y_pred))"
   ]
  },
  {
   "cell_type": "code",
   "execution_count": null,
   "id": "a5642800-a427-42e4-bebc-6d4cae25af3b",
   "metadata": {},
   "outputs": [],
   "source": [
    "from sklearn.metrics import confusion_matrix\n",
    "\n",
    "#stampa della matrice di confusione\n",
    "labels = np.unique(y_test)\n",
    "a =  confusion_matrix(y_test, y_pred, labels=labels)\n",
    "\n",
    "pd.DataFrame(a, index=labels, columns=labels)"
   ]
  },
  {
   "cell_type": "code",
   "execution_count": 25,
   "id": "97f073d5-0b4c-4eda-9dc6-c2748db69c43",
   "metadata": {},
   "outputs": [
    {
     "name": "stdout",
     "output_type": "stream",
     "text": [
      "['GALAXY']\n"
     ]
    }
   ],
   "source": [
    "#Demo\n",
    "\n",
    "u = input(\"Inserisci u: \")\n",
    "g = input(\"Inserisci g: \")\n",
    "r = input(\"Inserisci r: \")\n",
    "i = input(\"Inserisci i: \")\n",
    "z = input(\"Inserisci z: \")\n",
    "runid = input(\"Inserisci run_ID: \")\n",
    "specobjid = input(\"Inserisci spec_obj_ID: \")\n",
    "redshift = input(\"Inserisci redshift: \")\n",
    "plate = input(\"Inserisci plate_ID: \")\n",
    "MJD = input(\"Inserisci MJD: \")\n",
    "\n",
    "\n",
    "sample = np.array([u, g, r, i, z, runid, specobjid, redshift, plate, MJD])\n",
    "\n",
    "#quasar = np.array([22.85773, 22.18874, 21.35562, 21.26577, 20.93935, 2076, 1.053522e+19, 1.174289, 9357, 57807])\n",
    "#galaxy = np.array([27.10401, 22.65568, 21.26362, 20.04805, 19.61308, 7881, 7.934490e+18, 0.523852, 7047, 56572])\n",
    "#star = np.array([22.62560, 22.02104, 22.06787, 22.44037, 22.17338, 4135, 8.727075e+18, -0.001960, 7751, 58081])\n",
    "#sample = galaxy \n",
    "\n",
    "sample = sample.reshape(1, -1)\n",
    "y_pred = tree_model.predict(sample)\n",
    "print(y_pred)"
   ]
  },
  {
   "cell_type": "code",
   "execution_count": null,
   "id": "26a4366b-2529-4e4d-9143-d7ac16dea577",
   "metadata": {},
   "outputs": [],
   "source": []
  }
 ],
 "metadata": {
  "kernelspec": {
   "display_name": "Python 3 (ipykernel)",
   "language": "python",
   "name": "python3"
  },
  "language_info": {
   "codemirror_mode": {
    "name": "ipython",
    "version": 3
   },
   "file_extension": ".py",
   "mimetype": "text/x-python",
   "name": "python",
   "nbconvert_exporter": "python",
   "pygments_lexer": "ipython3",
   "version": "3.9.7"
  }
 },
 "nbformat": 4,
 "nbformat_minor": 5
}
