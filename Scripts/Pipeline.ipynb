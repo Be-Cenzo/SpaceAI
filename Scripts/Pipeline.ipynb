{
 "cells": [
  {
   "cell_type": "code",
   "execution_count": 4,
   "id": "2b942cca-22ff-4744-86d1-3b10ff787c81",
   "metadata": {},
   "outputs": [],
   "source": [
    "# To support both python 2 and python 3\n",
    "from __future__ import division, print_function, unicode_literals\n",
    "\n",
    "# Common imports\n",
    "#as rename \n",
    "import numpy as np\n",
    "import os\n",
    "import matplotlib.pyplot as plt\n",
    "import pandas as pd\n",
    "\n",
    "# To plot pretty figures\n",
    "%matplotlib inline\n",
    "import matplotlib as mpl\n",
    "import matplotlib.pyplot as plt\n",
    "mpl.rc('axes', labelsize=14)\n",
    "mpl.rc('xtick', labelsize=12)\n",
    "mpl.rc('ytick', labelsize=12)"
   ]
  },
  {
   "cell_type": "code",
   "execution_count": 5,
   "id": "cd3d9c4b-9bc9-4f4b-b48e-8288401e0ab4",
   "metadata": {},
   "outputs": [],
   "source": [
    "import os\n",
    "import tarfile\n",
    "from six.moves import urllib\n",
    "\n",
    "DOWNLOAD_ROOT = \"https://raw.githubusercontent.com/Be-Cenzo/SpaceAI/main/Dataset/\"\n",
    "FILE_PATH = os.path.join(\"Dataset\")\n",
    "FILE_URL1 = DOWNLOAD_ROOT + \"star_classification.csv\"\n",
    "\n",
    "#download del dataset\n",
    "def fetch_file_data1(file_url1=FILE_URL1, file_path1=FILE_PATH):\n",
    "    os.makedirs(file_path1, exist_ok=True)\n",
    "    csv_path1 = os.path.join(file_path1, \"star_classification.csv\")\n",
    "    urllib.request.urlretrieve(file_url1, csv_path1)\n",
    "\n",
    "fetch_file_data1()"
   ]
  },
  {
   "cell_type": "code",
   "execution_count": 6,
   "id": "9c1b45b1-9e05-45b4-aec0-8070e7b503c8",
   "metadata": {},
   "outputs": [],
   "source": [
    "#lettura del dataset\n",
    "datapath = os.path.join(\"Dataset\", \"\")\n",
    "\n",
    "stars = pd.read_csv(datapath + \"star_classification.csv\")"
   ]
  },
  {
   "cell_type": "code",
   "execution_count": 7,
   "id": "7ff710a6-9e52-4698-9c0f-18413e4ae4a6",
   "metadata": {},
   "outputs": [
    {
     "name": "stdout",
     "output_type": "stream",
     "text": [
      "             obj_ID          alpha          delta              u  \\\n",
      "count  1.000000e+05  100000.000000  100000.000000  100000.000000   \n",
      "mean   1.237665e+18     177.629117      24.135305      21.980468   \n",
      "std    8.438560e+12      96.502241      19.644665      31.769291   \n",
      "min    1.237646e+18       0.005528     -18.785328   -9999.000000   \n",
      "25%    1.237659e+18     127.518222       5.146771      20.352353   \n",
      "50%    1.237663e+18     180.900700      23.645922      22.179135   \n",
      "75%    1.237668e+18     233.895005      39.901550      23.687440   \n",
      "max    1.237681e+18     359.999810      83.000519      32.781390   \n",
      "\n",
      "                   g              r              i              z  \\\n",
      "count  100000.000000  100000.000000  100000.000000  100000.000000   \n",
      "mean       20.531387      19.645762      19.084854      18.668810   \n",
      "std        31.750292       1.854760       1.757895      31.728152   \n",
      "min     -9999.000000       9.822070       9.469903   -9999.000000   \n",
      "25%        18.965230      18.135828      17.732285      17.460677   \n",
      "50%        21.099835      20.125290      19.405145      19.004595   \n",
      "75%        22.123767      21.044785      20.396495      19.921120   \n",
      "max        31.602240      29.571860      32.141470      29.383740   \n",
      "\n",
      "              run_ID  rerun_ID        cam_col       field_ID   spec_obj_ID  \\\n",
      "count  100000.000000  100000.0  100000.000000  100000.000000  1.000000e+05   \n",
      "mean     4481.366060     301.0       3.511610     186.130520  5.783882e+18   \n",
      "std      1964.764593       0.0       1.586912     149.011073  3.324016e+18   \n",
      "min       109.000000     301.0       1.000000      11.000000  2.995191e+17   \n",
      "25%      3187.000000     301.0       2.000000      82.000000  2.844138e+18   \n",
      "50%      4188.000000     301.0       4.000000     146.000000  5.614883e+18   \n",
      "75%      5326.000000     301.0       5.000000     241.000000  8.332144e+18   \n",
      "max      8162.000000     301.0       6.000000     989.000000  1.412694e+19   \n",
      "\n",
      "            redshift          plate            MJD       fiber_ID  \n",
      "count  100000.000000  100000.000000  100000.000000  100000.000000  \n",
      "mean        0.576661    5137.009660   55588.647500     449.312740  \n",
      "std         0.730707    2952.303351    1808.484233     272.498404  \n",
      "min        -0.009971     266.000000   51608.000000       1.000000  \n",
      "25%         0.054517    2526.000000   54234.000000     221.000000  \n",
      "50%         0.424173    4987.000000   55868.500000     433.000000  \n",
      "75%         0.704154    7400.250000   56777.000000     645.000000  \n",
      "max         7.011245   12547.000000   58932.000000    1000.000000  \n"
     ]
    }
   ],
   "source": [
    "#distribuzione dei dati\n",
    "print(stars.describe())"
   ]
  },
  {
   "cell_type": "code",
   "execution_count": 8,
   "id": "fe14e90c-b556-4407-86d7-b9f6d1ab788b",
   "metadata": {},
   "outputs": [
    {
     "name": "stdout",
     "output_type": "stream",
     "text": [
      "          obj_ID       alpha      delta         u         g         r  \\\n",
      "0   1.237661e+18  135.689107  32.494632  23.87882  22.27530  20.39501   \n",
      "1   1.237665e+18  144.826101  31.274185  24.77759  22.83188  22.58444   \n",
      "2   1.237661e+18  142.188790  35.582444  25.26307  22.66389  20.60976   \n",
      "3   1.237663e+18  338.741038  -0.402828  22.13682  23.77656  21.61162   \n",
      "4   1.237680e+18  345.282593  21.183866  19.43718  17.58028  16.49747   \n",
      "5   1.237680e+18  340.995121  20.589476  23.48827  23.33776  21.32195   \n",
      "6   1.237679e+18   23.234926  11.418188  21.46973  21.17624  20.92829   \n",
      "7   1.237679e+18    5.433176  12.065186  22.24979  22.02172  20.34126   \n",
      "8   1.237661e+18  200.290475  47.199402  24.40286  22.35669  20.61032   \n",
      "9   1.237671e+18   39.149691  28.102842  21.74669  20.03493  19.17553   \n",
      "10  1.237680e+18  328.092076  18.220310  25.77163  22.52042  20.63884   \n",
      "11  1.237662e+18  243.986637  25.738280  23.76761  23.79969  20.98318   \n",
      "12  1.237681e+18  345.801874  32.672868  23.17274  20.14496  19.41948   \n",
      "13  1.237679e+18  331.502030  10.035802  20.82940  18.75091  17.51118   \n",
      "14  1.237663e+18  344.984770  -0.352616  23.20911  22.79291  22.08589   \n",
      "15  1.237662e+18  244.824523  25.154564  24.88680  22.13311  20.44728   \n",
      "16  1.237679e+18  353.201522   3.080796  24.54890  21.44267  20.95315   \n",
      "17  1.237679e+18    1.494389   3.291746  20.38562  20.40514  20.29996   \n",
      "18  1.237679e+18   14.383135   3.214326  21.82154  20.55730  19.94918   \n",
      "19  1.237652e+18  167.131669  67.339936  20.48292  18.67807  17.61680   \n",
      "\n",
      "           i         z  run_ID  rerun_ID  cam_col  field_ID   spec_obj_ID  \\\n",
      "0   19.16573  18.79371    3606       301        2        79  6.543777e+18   \n",
      "1   21.16812  21.61427    4518       301        5       119  1.176014e+19   \n",
      "2   19.34857  18.94827    3606       301        2       120  5.152200e+18   \n",
      "3   20.50454  19.25010    4192       301        3       214  1.030107e+19   \n",
      "4   15.97711  15.54461    8102       301        3       137  6.891865e+18   \n",
      "5   20.25615  19.54544    8102       301        3       110  5.658977e+18   \n",
      "6   20.60826  20.42573    7773       301        2       462  1.246262e+19   \n",
      "7   19.48794  18.84999    7773       301        2       346  6.961443e+18   \n",
      "8   19.46490  18.95852    3716       301        5       108  7.459285e+18   \n",
      "9   18.81823  18.65422    5934       301        4       122  2.751763e+18   \n",
      "10  19.78071  19.05765    8102       301        3        27  5.652162e+18   \n",
      "11  19.80745  19.45579    3927       301        4       112  5.322364e+18   \n",
      "12  19.22034  18.89359    8157       301        2        38  7.323011e+18   \n",
      "13  17.01631  16.62772    7773       301        2       123  5.702738e+18   \n",
      "14  21.86282  21.85120    4192       301        3       255  1.037539e+19   \n",
      "15  19.49171  18.97470    3927       301        4       118  5.322135e+18   \n",
      "16  20.79360  20.48442    7712       301        5       284  4.822278e+18   \n",
      "17  20.05918  19.89044    7712       301        5       339  9.843824e+18   \n",
      "18  19.76057  19.55514    7712       301        5       425  9.855073e+18   \n",
      "19  17.11936  16.73351    1412       301        5       124  5.518595e+17   \n",
      "\n",
      "     class  redshift  plate    MJD  fiber_ID  \n",
      "0   GALAXY  0.634794   5812  56354       171  \n",
      "1   GALAXY  0.779136  10445  58158       427  \n",
      "2   GALAXY  0.644195   4576  55592       299  \n",
      "3   GALAXY  0.932346   9149  58039       775  \n",
      "4   GALAXY  0.116123   6121  56187       842  \n",
      "5      QSO  1.424659   5026  55855       741  \n",
      "6      QSO  0.586455  11069  58456       113  \n",
      "7   GALAXY  0.477009   6183  56210        15  \n",
      "8   GALAXY  0.660012   6625  56386       719  \n",
      "9     STAR -0.000008   2444  54082       232  \n",
      "10  GALAXY  0.459596   5020  55852       525  \n",
      "11  GALAXY  0.591409   4727  55693       855  \n",
      "12    STAR  0.000072   6504  56540       574  \n",
      "13  GALAXY  0.152194   5065  55739       200  \n",
      "14  GALAXY  0.818160   9215  57682       796  \n",
      "15  GALAXY  0.484929   4727  55693        23  \n",
      "16    STAR -0.000429   4283  55864       178  \n",
      "17     QSO  2.031528   8743  57663       295  \n",
      "18    STAR -0.000440   8753  57373       258  \n",
      "19  GALAXY  0.111588    490  51929       613  \n",
      "obj_ID         0\n",
      "alpha          0\n",
      "delta          0\n",
      "u              0\n",
      "g              0\n",
      "r              0\n",
      "i              0\n",
      "z              0\n",
      "run_ID         0\n",
      "rerun_ID       0\n",
      "cam_col        0\n",
      "field_ID       0\n",
      "spec_obj_ID    0\n",
      "class          0\n",
      "redshift       0\n",
      "plate          0\n",
      "MJD            0\n",
      "fiber_ID       0\n",
      "dtype: int64\n",
      "['n/a', 'na', '--', 'nan', 'NaN', -9999]\n"
     ]
    }
   ],
   "source": [
    "#ricerca di dati mancanti\n",
    "print(stars.head(20))\n",
    "pd.set_option('display.max_columns', None)\n",
    "pd.set_option('display.max_rows', None)\n",
    "\n",
    "print(stars.isnull().sum())\n",
    "\n",
    "missing_values = [\"n/a\", \"na\", \"--\", \"nan\", \"NaN\", -9999]\n",
    "stars = pd.read_csv(datapath + \"star_classification.csv\", na_values = missing_values)\n",
    "print(missing_values)\n",
    "\n",
    "#data quality imputation\n",
    "#drop column with null value\n",
    "#heart = heart.dropna(axis=1)\n",
    "#droo row with null value\n",
    "#heart = heart.dropna(axis=0)\n",
    "#heart['name']=heart['name'].fillna(heart['name'].mean())"
   ]
  },
  {
   "cell_type": "code",
   "execution_count": 9,
   "id": "941ddaf3-f912-47b3-af5f-40e15e2bbde5",
   "metadata": {},
   "outputs": [
    {
     "data": {
      "image/png": "[encoded data removed]",
      "text/plain": [
       "<Figure size 432x288 with 1 Axes>"
      ]
     },
     "metadata": {
      "needs_background": "light"
     },
     "output_type": "display_data"
    }
   ],
   "source": [
    "#scatterplot -> definition\n",
    "\n",
    "stars.plot(x='redshift', y='class',kind='scatter')\n",
    "plt.show()"
   ]
  },
  {
   "cell_type": "code",
   "execution_count": 10,
   "id": "acc4d1a8-331d-42e4-870d-647f77b78f32",
   "metadata": {},
   "outputs": [],
   "source": [
    "#definizione delle variabili indipendenti e della variabile target\n",
    "dataset=pd.read_csv(datapath + \"star_classification.csv\")\n",
    "\n",
    "X = dataset.iloc[:, [0, 1, 2, 3, 4, 5, 6, 7, 8, 9, 10 ,11, 12, 14, 15, 16, 17]]\n",
    "y= dataset.iloc[ : , 13]"
   ]
  },
  {
   "cell_type": "code",
   "execution_count": 11,
   "id": "7bbd8484-984a-42c9-b72b-d7de968ba0ac",
   "metadata": {},
   "outputs": [
    {
     "data": {
      "text/plain": [
       "GALAXY    59445\n",
       "STAR      21594\n",
       "QSO       18961\n",
       "Name: class, dtype: int64"
      ]
     },
     "execution_count": 11,
     "metadata": {},
     "output_type": "execute_result"
    },
    {
     "data": {
      "image/png": "[encoded data removed]",
      "text/plain": [
       "<Figure size 432x288 with 1 Axes>"
      ]
     },
     "metadata": {
      "needs_background": "light"
     },
     "output_type": "display_data"
    }
   ],
   "source": [
    "#plot della distribuzione della variabile target\n",
    "pd.value_counts(dataset['class']).plot.bar()\n",
    "plt.xlabel('target')\n",
    "plt.ylabel('Frequency')\n",
    "dataset['class'].value_counts()"
   ]
  },
  {
   "cell_type": "code",
   "execution_count": 122,
   "id": "140cc240-a90f-4445-b7ae-7ac75e3666f7",
   "metadata": {},
   "outputs": [
    {
     "name": "stdout",
     "output_type": "stream",
     "text": [
      "Number transactions X_train dataset:  (80000, 17)\n",
      "Number transactions y_train dataset:  (80000,)\n",
      "Number transactions X_test dataset:  (20000, 17)\n",
      "Number transactions y_test dataset:  (20000,)\n"
     ]
    }
   ],
   "source": [
    "from sklearn.model_selection import train_test_split\n",
    "\n",
    "#divisione del dataset in training set e testing set\n",
    "X_train, X_test, y_train, y_test = train_test_split(X, y, test_size=0.2, random_state=42)\n",
    "\n",
    "print(\"Number transactions X_train dataset: \", X_train.shape)\n",
    "print(\"Number transactions y_train dataset: \", y_train.shape)\n",
    "print(\"Number transactions X_test dataset: \", X_test.shape)\n",
    "print(\"Number transactions y_test dataset: \", y_test.shape)"
   ]
  },
  {
   "cell_type": "code",
   "execution_count": null,
   "id": "d9c4ac8c-e71c-463e-aff8-cf5f750f069f",
   "metadata": {},
   "outputs": [],
   "source": [
    "#Oversampling utilizzando SMOTE\n",
    "from imblearn.over_sampling import SMOTE\n",
    "\n",
    "print(\"Before OverSampling, counts of label 'GALAXY': {}\".format(sum(y_train == \"GALAXY\")))\n",
    "print(\"Before OverSampling, counts of label 'QSO': {}\".format(sum(y_train == \"QSO\")))\n",
    "print(\"Before OverSampling, counts of label 'STAR': {} \\n\".format(sum(y_train == \"STAR\")))\n",
    "\n",
    "sm = SMOTE(random_state=42)\n",
    "X_train_res, y_train_res = sm.fit_resample(X_train, y_train)"
   ]
  },
  {
   "cell_type": "code",
   "execution_count": 123,
   "id": "61a2e139-68f9-4242-bcbd-93a1cabcc4f4",
   "metadata": {},
   "outputs": [
    {
     "name": "stdout",
     "output_type": "stream",
     "text": [
      "Before UnderSampling, counts of label 'GALAXY': 47585\n",
      "Before UnderSampling, counts of label 'QSO': 15164\n",
      "Before UnderSampling, counts of label 'STAR': 17251 \n",
      "\n"
     ]
    }
   ],
   "source": [
    "#Undersampling utilizzando RandomUnderSampler\n",
    "from imblearn.under_sampling import RandomUnderSampler\n",
    "\n",
    "print(\"Before UnderSampling, counts of label 'GALAXY': {}\".format(sum(y_train == \"GALAXY\")))\n",
    "print(\"Before UnderSampling, counts of label 'QSO': {}\".format(sum(y_train == \"QSO\")))\n",
    "print(\"Before UnderSampling, counts of label 'STAR': {} \\n\".format(sum(y_train == \"STAR\")))\n",
    "\n",
    "rus = RandomUnderSampler(random_state=42)\n",
    "X_train_res, y_train_res = rus.fit_resample(X_train, y_train)"
   ]
  },
  {
   "cell_type": "code",
   "execution_count": null,
   "id": "c206757a-7364-4aeb-a171-500cb068b05a",
   "metadata": {},
   "outputs": [],
   "source": [
    "#Undersampling utilizzando ClusterCentroids\n",
    "from imblearn.under_sampling import ClusterCentroids\n",
    "\n",
    "print(\"Before UnderSampling, counts of label 'GALAXY': {}\".format(sum(y_train == \"GALAXY\")))\n",
    "print(\"Before UnderSampling, counts of label 'QSO': {}\".format(sum(y_train == \"QSO\")))\n",
    "print(\"Before UnderSampling, counts of label 'STAR': {} \\n\".format(sum(y_train == \"STAR\")))\n",
    "\n",
    "cc = ClusterCentroids(random_state=42)\n",
    "X_train_res, y_train_res = cc.fit_resample(X_train, y_train)"
   ]
  },
  {
   "cell_type": "code",
   "execution_count": 99,
   "id": "4aca7349-35de-44f7-bd87-a79b05842f52",
   "metadata": {},
   "outputs": [
    {
     "name": "stdout",
     "output_type": "stream",
     "text": [
      "Before UnderSampling, counts of label 'GALAXY': 47585\n",
      "Before UnderSampling, counts of label 'QSO': 15164\n",
      "Before UnderSampling, counts of label 'STAR': 17251 \n",
      "\n"
     ]
    }
   ],
   "source": [
    "#Undersampling utilizzando NearMiss\n",
    "from imblearn.under_sampling import NearMiss\n",
    "\n",
    "print(\"Before UnderSampling, counts of label 'GALAXY': {}\".format(sum(y_train == \"GALAXY\")))\n",
    "print(\"Before UnderSampling, counts of label 'QSO': {}\".format(sum(y_train == \"QSO\")))\n",
    "print(\"Before UnderSampling, counts of label 'STAR': {} \\n\".format(sum(y_train == \"STAR\")))\n",
    "\n",
    "nm = NearMiss()\n",
    "X_train_res, y_train_res = nm.fit_resample(X_train, y_train)"
   ]
  },
  {
   "cell_type": "code",
   "execution_count": 124,
   "id": "2000be89-d13f-48ca-a2c6-84baa438ec0b",
   "metadata": {},
   "outputs": [
    {
     "name": "stdout",
     "output_type": "stream",
     "text": [
      "After Balancing, counts of label 'GALAXY': 15164\n",
      "After Balancing, counts of label 'QSO': 15164\n",
      "After Balancing, counts of label 'STAR': 15164\n"
     ]
    }
   ],
   "source": [
    "print(\"After Balancing, counts of label 'GALAXY': {}\".format(sum(y_train_res == \"GALAXY\")))\n",
    "print(\"After Balancing, counts of label 'QSO': {}\".format(sum(y_train_res ==  \"QSO\")))\n",
    "print(\"After Balancing, counts of label 'STAR': {}\".format(sum(y_train_res ==  \"STAR\")))"
   ]
  },
  {
   "cell_type": "code",
   "execution_count": 130,
   "id": "f7d53925-d467-4756-9f87-016f8970b205",
   "metadata": {},
   "outputs": [
    {
     "data": {
      "text/plain": [
       "GALAXY    15164\n",
       "QSO       15164\n",
       "STAR      15164\n",
       "Name: class, dtype: int64"
      ]
     },
     "execution_count": 130,
     "metadata": {},
     "output_type": "execute_result"
    },
    {
     "data": {
      "image/png": "[encoded data removed]",
      "text/plain": [
       "<Figure size 432x288 with 1 Axes>"
      ]
     },
     "metadata": {
      "needs_background": "light"
     },
     "output_type": "display_data"
    }
   ],
   "source": [
    "#plot della distribuzione della variabile target dopo il bilanciamento\n",
    "pd.value_counts(y_train_res).plot.bar()\n",
    "plt.xlabel('target')\n",
    "plt.ylabel('Frequency')\n",
    "y_train_res.value_counts()"
   ]
  },
  {
   "cell_type": "code",
   "execution_count": 125,
   "id": "4f4f6f74-8e79-4ba6-9a6d-dddc14daf7a8",
   "metadata": {},
   "outputs": [
    {
     "name": "stdout",
     "output_type": "stream",
     "text": [
      "[[6.59722529 6.84597186 2.97073663 ... 4.21960752 5.46791371 6.55855856]\n",
      " [3.31768171 4.7718035  3.21916693 ... 0.65035421 1.22146368 0.67967968]\n",
      " [3.61039248 0.70073319 1.21992027 ... 0.07979806 0.25614418 0.86186186]\n",
      " ...\n",
      " [3.61082746 0.78139927 1.32647911 ... 0.25079391 0.56485527 3.82582583]\n",
      " [6.77780621 0.26887409 1.04051546 ... 5.17148441 5.81485527 4.28128128]\n",
      " [6.94838877 0.04728657 3.1615013  ... 3.76817849 4.71764063 6.69169169]]\n"
     ]
    }
   ],
   "source": [
    "#Normalizzazione dei dati\n",
    "from sklearn.preprocessing import MinMaxScaler\n",
    "\n",
    "scl = MinMaxScaler(feature_range=(0, 7)) #you can use differnt range\n",
    "X_train_res = scl.fit_transform(X_train_res)\n",
    "x_test = scl.fit_transform(X_test)\n",
    "\n",
    "print(X_train_res)"
   ]
  },
  {
   "cell_type": "code",
   "execution_count": null,
   "id": "b180de85-5738-4ca2-afb0-7b784fbe61e4",
   "metadata": {},
   "outputs": [],
   "source": [
    "#feature selection usando SelectKBest\n",
    "\n",
    "from sklearn.feature_selection import SelectKBest\n",
    "from sklearn.feature_selection import chi2, f_regression\n",
    "from numpy import set_printoptions\n",
    "\n",
    "fs = SelectKBest(score_func=chi2,k=7)\n",
    "fs.fit_transform(X_train_res, y_train_res)\n",
    "#print(fs[:5])\n",
    "\n",
    "X_new_train_res = fs.transform(X_train_res)\n",
    "X_new_test = fs.transform(X_test)\n",
    "print(X_new_train_res.shape)\n",
    "\n",
    "\n",
    "X.columns[fs.get_support(indices=True)]\n",
    "\n",
    "X.columns[fs.get_support(indices=True)].tolist()"
   ]
  },
  {
   "cell_type": "code",
   "execution_count": 126,
   "id": "e0c911fc-569a-4767-bc09-14d78c7042f6",
   "metadata": {},
   "outputs": [
    {
     "name": "stdout",
     "output_type": "stream",
     "text": [
      "[[11259   478   123]\n",
      " [  620  3176     1]\n",
      " [    0     0  4343]]\n",
      "              precision    recall  f1-score   support\n",
      "\n",
      "      GALAXY       0.95      0.95      0.95     11860\n",
      "         QSO       0.87      0.84      0.85      3797\n",
      "        STAR       0.97      1.00      0.99      4343\n",
      "\n",
      "    accuracy                           0.94     20000\n",
      "   macro avg       0.93      0.93      0.93     20000\n",
      "weighted avg       0.94      0.94      0.94     20000\n",
      "\n",
      "Accuracy: 0.9389\n"
     ]
    }
   ],
   "source": [
    "from sklearn.tree import DecisionTreeClassifier\n",
    "from sklearn import metrics\n",
    "from sklearn.metrics import classification_report, confusion_matrix\n",
    "\n",
    "tree_model = DecisionTreeClassifier(max_depth=2, random_state=42)\n",
    "#The maximum depth of the tree. If None, then nodes are expanded until all leaves are pure or until all leaves contain less than min_samples_split samples.\n",
    "\n",
    "tree_model.fit(X_train_res, y_train_res)\n",
    "\n",
    "y_pred = tree_model.predict(X_test)\n",
    "\n",
    "labels = np.unique(y_test)\n",
    "print(confusion_matrix(y_test, y_pred, labels=labels))\n",
    "print(classification_report(y_test, y_pred))\n",
    "\n",
    "#Overall, how often is the classifier correct?\n",
    "print(\"Accuracy:\",metrics.accuracy_score(y_test, y_pred))"
   ]
  },
  {
   "cell_type": "code",
   "execution_count": null,
   "id": "126a75eb-e998-42f5-84fa-7b4ce6a4286a",
   "metadata": {},
   "outputs": [],
   "source": [
    "from sklearn.naive_bayes import MultinomialNB\n",
    "from sklearn import metrics\n",
    "from sklearn.metrics import classification_report, confusion_matrix\n",
    "\n",
    "\n",
    "nb = MultinomialNB()\n",
    "nb.fit(X_train_res, y_train_res)\n",
    "\n",
    "y_pred = nb.predict(X_test)\n",
    "\n",
    "labels = np.unique(y_test)\n",
    "print(confusion_matrix(y_test, y_pred, labels=labels))\n",
    "print(classification_report(y_test, y_pred))\n",
    "\n",
    "#Overall, how often is the classifier correct?\n",
    "print(\"Accuracy:\",metrics.accuracy_score(y_test, y_pred))"
   ]
  },
  {
   "cell_type": "code",
   "execution_count": 67,
   "id": "a5642800-a427-42e4-bebc-6d4cae25af3b",
   "metadata": {},
   "outputs": [
    {
     "data": {
      "text/html": [
       "<div>\n",
       "<style scoped>\n",
       "    .dataframe tbody tr th:only-of-type {\n",
       "        vertical-align: middle;\n",
       "    }\n",
       "\n",
       "    .dataframe tbody tr th {\n",
       "        vertical-align: top;\n",
       "    }\n",
       "\n",
       "    .dataframe thead th {\n",
       "        text-align: right;\n",
       "    }\n",
       "</style>\n",
       "<table border=\"1\" class=\"dataframe\">\n",
       "  <thead>\n",
       "    <tr style=\"text-align: right;\">\n",
       "      <th></th>\n",
       "      <th>GALAXY</th>\n",
       "      <th>QSO</th>\n",
       "      <th>STAR</th>\n",
       "    </tr>\n",
       "  </thead>\n",
       "  <tbody>\n",
       "    <tr>\n",
       "      <th>GALAXY</th>\n",
       "      <td>11698</td>\n",
       "      <td>143</td>\n",
       "      <td>19</td>\n",
       "    </tr>\n",
       "    <tr>\n",
       "      <th>QSO</th>\n",
       "      <td>298</td>\n",
       "      <td>3498</td>\n",
       "      <td>1</td>\n",
       "    </tr>\n",
       "    <tr>\n",
       "      <th>STAR</th>\n",
       "      <td>5</td>\n",
       "      <td>0</td>\n",
       "      <td>4338</td>\n",
       "    </tr>\n",
       "  </tbody>\n",
       "</table>\n",
       "</div>"
      ],
      "text/plain": [
       "        GALAXY   QSO  STAR\n",
       "GALAXY   11698   143    19\n",
       "QSO        298  3498     1\n",
       "STAR         5     0  4338"
      ]
     },
     "execution_count": 67,
     "metadata": {},
     "output_type": "execute_result"
    }
   ],
   "source": [
    "from sklearn.metrics import confusion_matrix\n",
    "\n",
    "#stampa della matrice di confusione\n",
    "labels = np.unique(y_test)\n",
    "a =  confusion_matrix(y_test, y_pred, labels=labels)\n",
    "\n",
    "pd.DataFrame(a, index=labels, columns=labels)"
   ]
  }
 ],
 "metadata": {
  "kernelspec": {
   "display_name": "Python 3 (ipykernel)",
   "language": "python",
   "name": "python3"
  },
  "language_info": {
   "codemirror_mode": {
    "name": "ipython",
    "version": 3
   },
   "file_extension": ".py",
   "mimetype": "text/x-python",
   "name": "python",
   "nbconvert_exporter": "python",
   "pygments_lexer": "ipython3",
   "version": "3.9.7"
  }
 },
 "nbformat": 4,
 "nbformat_minor": 5
}
