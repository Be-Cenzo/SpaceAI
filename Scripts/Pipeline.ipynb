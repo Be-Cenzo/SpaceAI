{
 "cells": [
  {
   "cell_type": "code",
   "execution_count": null,
   "id": "2b942cca-22ff-4744-86d1-3b10ff787c81",
   "metadata": {},
   "outputs": [],
   "source": [
    "# To support both python 2 and python 3\n",
    "from __future__ import division, print_function, unicode_literals\n",
    "\n",
    "# Common imports\n",
    "#as rename \n",
    "import numpy as np\n",
    "import os\n",
    "import matplotlib.pyplot as plt\n",
    "import pandas as pd\n",
    "\n",
    "# To plot pretty figures\n",
    "%matplotlib inline\n",
    "import matplotlib as mpl\n",
    "import matplotlib.pyplot as plt\n",
    "mpl.rc('axes', labelsize=14)\n",
    "mpl.rc('xtick', labelsize=12)\n",
    "mpl.rc('ytick', labelsize=12)"
   ]
  },
  {
   "cell_type": "code",
   "execution_count": null,
   "id": "cd3d9c4b-9bc9-4f4b-b48e-8288401e0ab4",
   "metadata": {},
   "outputs": [],
   "source": [
    "import os\n",
    "import tarfile\n",
    "from six.moves import urllib\n",
    "\n",
    "DOWNLOAD_ROOT = \"https://raw.githubusercontent.com/Be-Cenzo/SpaceAI/main/Dataset/\"\n",
    "FILE_PATH = os.path.join(\"Dataset\")\n",
    "FILE_URL1 = DOWNLOAD_ROOT + \"star_classification.csv\"\n",
    "\n",
    "#download del dataset\n",
    "def fetch_file_data1(file_url1=FILE_URL1, file_path1=FILE_PATH):\n",
    "    os.makedirs(file_path1, exist_ok=True)\n",
    "    csv_path1 = os.path.join(file_path1, \"star_classification.csv\")\n",
    "    urllib.request.urlretrieve(file_url1, csv_path1)\n",
    "\n",
    "fetch_file_data1()"
   ]
  },
  {
   "cell_type": "code",
   "execution_count": null,
   "id": "9c1b45b1-9e05-45b4-aec0-8070e7b503c8",
   "metadata": {},
   "outputs": [],
   "source": [
    "#lettura del dataset\n",
    "datapath = os.path.join(\"Dataset\", \"\")\n",
    "\n",
    "stars = pd.read_csv(datapath + \"star_classification.csv\")"
   ]
  },
  {
   "cell_type": "code",
   "execution_count": null,
   "id": "7ff710a6-9e52-4698-9c0f-18413e4ae4a6",
   "metadata": {},
   "outputs": [],
   "source": [
    "#distribuzione dei dati\n",
    "print(stars.describe())"
   ]
  },
  {
   "cell_type": "code",
   "execution_count": null,
   "id": "fe14e90c-b556-4407-86d7-b9f6d1ab788b",
   "metadata": {},
   "outputs": [],
   "source": [
    "#ricerca di dati mancanti\n",
    "pd.set_option('display.max_columns', None)\n",
    "pd.set_option('display.max_rows', None)\n",
    "\n",
    "vuoto = stars.isnull();\n",
    "print(stars.isnull().sum())\n",
    "print(vuoto[vuoto[\"z\"] == 1])\n",
    "\n",
    "missing_values = [\"n/a\", \"na\", \"--\", \"nan\", \"NaN\", -9999]\n",
    "stars = pd.read_csv(datapath + \"star_classification.csv\", na_values = missing_values)\n",
    "print(missing_values)\n",
    "\n",
    "#data quality imputation\n",
    "#eliminazione righe con dati mancanti\n",
    "stars = stars.dropna(axis=0)\n",
    "print(stars.isnull().sum())"
   ]
  },
  {
   "cell_type": "code",
   "execution_count": null,
   "id": "941ddaf3-f912-47b3-af5f-40e15e2bbde5",
   "metadata": {},
   "outputs": [],
   "source": [
    "#scatterplot -> definition\n",
    "\n",
    "stars.plot(x='redshift', y='class',kind='scatter')\n",
    "plt.show()"
   ]
  },
  {
   "cell_type": "code",
   "execution_count": null,
   "id": "acc4d1a8-331d-42e4-870d-647f77b78f32",
   "metadata": {},
   "outputs": [],
   "source": [
    "#definizione delle variabili indipendenti e della variabile target\n",
    "\n",
    "X = stars.iloc[:, [1, 2, 3, 4, 5, 6, 7, 8, 10 ,11, 12, 14, 15, 16, 17]]\n",
    "y= stars.iloc[ : , 13]"
   ]
  },
  {
   "cell_type": "code",
   "execution_count": null,
   "id": "7bbd8484-984a-42c9-b72b-d7de968ba0ac",
   "metadata": {},
   "outputs": [],
   "source": [
    "#plot della distribuzione della variabile target\n",
    "pd.value_counts(stars['class']).plot.bar()\n",
    "plt.xlabel('target')\n",
    "plt.ylabel('Frequency')\n",
    "stars['class'].value_counts()"
   ]
  },
  {
   "cell_type": "code",
   "execution_count": null,
   "id": "140cc240-a90f-4445-b7ae-7ac75e3666f7",
   "metadata": {},
   "outputs": [],
   "source": [
    "from sklearn.model_selection import train_test_split\n",
    "\n",
    "#divisione del dataset in training set e testing set\n",
    "X_train, X_test, y_train, y_test = train_test_split(X, y, test_size=0.2, random_state=42)\n",
    "\n",
    "print(\"Number transactions X_train dataset: \", X_train.shape)\n",
    "print(\"Number transactions y_train dataset: \", y_train.shape)\n",
    "print(\"Number transactions X_test dataset: \", X_test.shape)\n",
    "print(\"Number transactions y_test dataset: \", y_test.shape)\n",
    "X_train_res = X_train\n",
    "y_train_res = y_train"
   ]
  },
  {
   "cell_type": "code",
   "execution_count": null,
   "id": "d9c4ac8c-e71c-463e-aff8-cf5f750f069f",
   "metadata": {},
   "outputs": [],
   "source": [
    "#Oversampling utilizzando SMOTE\n",
    "from imblearn.over_sampling import SMOTE\n",
    "\n",
    "print(\"Before OverSampling, counts of label 'GALAXY': {}\".format(sum(y_train == \"GALAXY\")))\n",
    "print(\"Before OverSampling, counts of label 'QSO': {}\".format(sum(y_train == \"QSO\")))\n",
    "print(\"Before OverSampling, counts of label 'STAR': {} \\n\".format(sum(y_train == \"STAR\")))\n",
    "\n",
    "sm = SMOTE(random_state=42)\n",
    "X_train_res, y_train_res = sm.fit_resample(X_train, y_train)"
   ]
  },
  {
   "cell_type": "code",
   "execution_count": null,
   "id": "61a2e139-68f9-4242-bcbd-93a1cabcc4f4",
   "metadata": {},
   "outputs": [],
   "source": [
    "#Undersampling utilizzando RandomUnderSampler\n",
    "from imblearn.under_sampling import RandomUnderSampler\n",
    "\n",
    "print(\"Before UnderSampling, counts of label 'GALAXY': {}\".format(sum(y_train == \"GALAXY\")))\n",
    "print(\"Before UnderSampling, counts of label 'QSO': {}\".format(sum(y_train == \"QSO\")))\n",
    "print(\"Before UnderSampling, counts of label 'STAR': {} \\n\".format(sum(y_train == \"STAR\")))\n",
    "\n",
    "rus = RandomUnderSampler(random_state=42)\n",
    "X_train_res, y_train_res = rus.fit_resample(X_train, y_train)"
   ]
  },
  {
   "cell_type": "code",
   "execution_count": null,
   "id": "c206757a-7364-4aeb-a171-500cb068b05a",
   "metadata": {},
   "outputs": [],
   "source": [
    "#Undersampling utilizzando ClusterCentroids\n",
    "from imblearn.under_sampling import ClusterCentroids\n",
    "\n",
    "print(\"Before UnderSampling, counts of label 'GALAXY': {}\".format(sum(y_train == \"GALAXY\")))\n",
    "print(\"Before UnderSampling, counts of label 'QSO': {}\".format(sum(y_train == \"QSO\")))\n",
    "print(\"Before UnderSampling, counts of label 'STAR': {} \\n\".format(sum(y_train == \"STAR\")))\n",
    "\n",
    "cc = ClusterCentroids(random_state=42)\n",
    "X_train_res, y_train_res = cc.fit_resample(X_train, y_train)"
   ]
  },
  {
   "cell_type": "code",
   "execution_count": null,
   "id": "4aca7349-35de-44f7-bd87-a79b05842f52",
   "metadata": {},
   "outputs": [],
   "source": [
    "#Undersampling utilizzando NearMiss\n",
    "from imblearn.under_sampling import NearMiss\n",
    "\n",
    "print(\"Before UnderSampling, counts of label 'GALAXY': {}\".format(sum(y_train == \"GALAXY\")))\n",
    "print(\"Before UnderSampling, counts of label 'QSO': {}\".format(sum(y_train == \"QSO\")))\n",
    "print(\"Before UnderSampling, counts of label 'STAR': {} \\n\".format(sum(y_train == \"STAR\")))\n",
    "\n",
    "nm = NearMiss()\n",
    "X_train_res, y_train_res = nm.fit_resample(X_train, y_train)"
   ]
  },
  {
   "cell_type": "code",
   "execution_count": null,
   "id": "2000be89-d13f-48ca-a2c6-84baa438ec0b",
   "metadata": {},
   "outputs": [],
   "source": [
    "print(\"After Balancing, counts of label 'GALAXY': {}\".format(sum(y_train_res == \"GALAXY\")))\n",
    "print(\"After Balancing, counts of label 'QSO': {}\".format(sum(y_train_res ==  \"QSO\")))\n",
    "print(\"After Balancing, counts of label 'STAR': {}\".format(sum(y_train_res ==  \"STAR\")))"
   ]
  },
  {
   "cell_type": "code",
   "execution_count": null,
   "id": "f7d53925-d467-4756-9f87-016f8970b205",
   "metadata": {},
   "outputs": [],
   "source": [
    "#plot della distribuzione della variabile target dopo il bilanciamento\n",
    "pd.value_counts(y_train_res).plot.bar()\n",
    "plt.xlabel('target')\n",
    "plt.ylabel('Frequency')\n",
    "y_train_res.value_counts()"
   ]
  },
  {
   "cell_type": "code",
   "execution_count": null,
   "id": "4f4f6f74-8e79-4ba6-9a6d-dddc14daf7a8",
   "metadata": {},
   "outputs": [],
   "source": [
    "#Normalizzazione dei dati\n",
    "from sklearn.preprocessing import MinMaxScaler\n",
    "\n",
    "scl = MinMaxScaler(feature_range=(0, 1)) #you can use differnt range\n",
    "X_train_res = scl.fit_transform(X_train_res)\n",
    "x_test = scl.fit_transform(X_test)\n",
    "\n",
    "print(X_train_res)"
   ]
  },
  {
   "cell_type": "code",
   "execution_count": null,
   "id": "b180de85-5738-4ca2-afb0-7b784fbe61e4",
   "metadata": {},
   "outputs": [],
   "source": [
    "#feature selection usando SelectKBest\n",
    "\n",
    "from sklearn.feature_selection import SelectKBest\n",
    "from sklearn.feature_selection import chi2, f_regression, mutual_info_classif\n",
    "from numpy import set_printoptions\n",
    "\n",
    "fs = SelectKBest(score_func=mutual_info_classif,k=10)\n",
    "fs.fit_transform(X_train_res, y_train_res)\n",
    "#print(fs[:7])\n",
    "\n",
    "X_new_train_res = fs.transform(X_train_res)\n",
    "X_new_test = fs.transform(X_test)\n",
    "print(X_new_train_res.shape)\n",
    "\n",
    "\n",
    "X.columns[fs.get_support(indices=True)]\n",
    "\n",
    "X.columns[fs.get_support(indices=True)].tolist()\n",
    "\n",
    "#print(X_new_test[1])"
   ]
  },
  {
   "cell_type": "code",
   "execution_count": null,
   "id": "e0c911fc-569a-4767-bc09-14d78c7042f6",
   "metadata": {},
   "outputs": [],
   "source": [
    "from sklearn.tree import DecisionTreeClassifier\n",
    "from sklearn import metrics\n",
    "from sklearn.metrics import classification_report, confusion_matrix\n",
    "\n",
    "tree_model = DecisionTreeClassifier(max_depth=2, random_state=42)\n",
    "#The maximum depth of the tree. If None, then nodes are expanded until all leaves are pure or until all leaves contain less than min_samples_split samples.\n",
    "\n",
    "tree_model.fit(X_new_train_res, y_train_res)\n",
    "\n",
    "y_pred = tree_model.predict(X_new_test)\n",
    "\n",
    "labels = np.unique(y_test)\n",
    "print(confusion_matrix(y_test, y_pred, labels=labels))\n",
    "print(classification_report(y_test, y_pred))\n",
    "\n",
    "#Overall, how often is the classifier correct?\n",
    "print(\"Accuracy:\",metrics.accuracy_score(y_test, y_pred))"
   ]
  },
  {
   "cell_type": "code",
   "execution_count": null,
   "id": "126a75eb-e998-42f5-84fa-7b4ce6a4286a",
   "metadata": {},
   "outputs": [],
   "source": [
    "from sklearn.naive_bayes import MultinomialNB\n",
    "from sklearn import metrics\n",
    "from sklearn.metrics import classification_report, confusion_matrix\n",
    "\n",
    "\n",
    "nb = MultinomialNB()\n",
    "nb.fit(X_train_res, y_train_res)\n",
    "\n",
    "y_pred = nb.predict(X_test)\n",
    "\n",
    "labels = np.unique(y_test)\n",
    "print(confusion_matrix(y_test, y_pred, labels=labels))\n",
    "print(classification_report(y_test, y_pred))\n",
    "\n",
    "#Overall, how often is the classifier correct?\n",
    "print(\"Accuracy:\",metrics.accuracy_score(y_test, y_pred))"
   ]
  },
  {
   "cell_type": "code",
   "execution_count": null,
   "id": "a5642800-a427-42e4-bebc-6d4cae25af3b",
   "metadata": {},
   "outputs": [],
   "source": [
    "from sklearn.metrics import confusion_matrix\n",
    "\n",
    "#stampa della matrice di confusione\n",
    "labels = np.unique(y_test)\n",
    "a =  confusion_matrix(y_test, y_pred, labels=labels)\n",
    "\n",
    "pd.DataFrame(a, index=labels, columns=labels)"
   ]
  },
  {
   "cell_type": "code",
   "execution_count": null,
   "id": "97f073d5-0b4c-4eda-9dc6-c2748db69c43",
   "metadata": {},
   "outputs": [],
   "source": [
    "#Demo\n",
    "\n",
    "u = input(\"Inserisci u: \")\n",
    "g = input(\"Inserisci g: \")\n",
    "r = input(\"Inserisci r: \")\n",
    "i = input(\"Inserisci i: \")\n",
    "z = input(\"Inserisci z: \")\n",
    "runid = input(\"Inserisci run_ID: \")\n",
    "specobjid = input(\"Inserisci spec_obj_ID: \")\n",
    "redshift = input(\"Inserisci redshift: \")\n",
    "plate = input(\"Inserisci plate_ID: \")\n",
    "MJD = input(\"Inserisci MJD: \")\n",
    "\n",
    "\n",
    "sample = np.array([u, g, r, i, z, runid, specobjid, redshift, plate, MJD])\n",
    "\n",
    "#quasar = np.array([22.85773, 22.18874, 21.35562, 21.26577, 20.93935, 2076, 1.053522e+19, 1.174289, 9357, 57807])\n",
    "#galaxy = np.array([27.10401, 22.65568, 21.26362, 20.04805, 19.61308, 7881, 7.934490e+18, 0.523852, 7047, 56572])\n",
    "#star = np.array([22.62560, 22.02104, 22.06787, 22.44037, 22.17338, 4135, 8.727075e+18, -0.001960, 7751, 58081])\n",
    "#sample = galaxy \n",
    "\n",
    "sample = sample.reshape(1, -1)\n",
    "y_pred = tree_model.predict(sample)\n",
    "print(y_pred)"
   ]
  },
  {
   "cell_type": "code",
   "execution_count": null,
   "id": "26a4366b-2529-4e4d-9143-d7ac16dea577",
   "metadata": {},
   "outputs": [],
   "source": []
  }
 ],
 "metadata": {
  "kernelspec": {
   "display_name": "Python 3 (ipykernel)",
   "language": "python",
   "name": "python3"
  },
  "language_info": {
   "codemirror_mode": {
    "name": "ipython",
    "version": 3
   },
   "file_extension": ".py",
   "mimetype": "text/x-python",
   "name": "python",
   "nbconvert_exporter": "python",
   "pygments_lexer": "ipython3",
   "version": "3.9.7"
  }
 },
 "nbformat": 4,
 "nbformat_minor": 5
}
